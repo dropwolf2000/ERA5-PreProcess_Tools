{
 "cells": [
  {
   "cell_type": "code",
   "execution_count": 5,
   "metadata": {
    "collapsed": true,
    "pycharm": {
     "name": "#%%\n"
    }
   },
   "outputs": [],
   "source": [
    "import xarray as xr\n",
    "import pathlib\n",
    "from tqdm import tqdm\n",
    "\n",
    "from joblib import Parallel, delayed"
   ]
  },
  {
   "cell_type": "code",
   "execution_count": 6,
   "outputs": [],
   "source": [
    "# proc funcs\n",
    "var_process_functions = {'u10': 'avg',\n",
    "                         'v10': 'avg',\n",
    "                         'd2m': 'avg',\n",
    "                         't2m': 'avg',\n",
    "                         'evabs': 'sum',\n",
    "                         'evaow': 'sum',\n",
    "                         'evatc': 'sum',\n",
    "                         'evavt': 'sum',\n",
    "                         'fal': 'avg',\n",
    "                         'lai_hv': 'avg',\n",
    "                         'lai_lv': 'avg',\n",
    "                         'pev': 'sum',\n",
    "                         'ro': 'sum',\n",
    "                         'src': 'avg',\n",
    "                         'skt': 'avg',\n",
    "                         'es': 'avg',\n",
    "                         'stl1': 'avg',\n",
    "                         'stl2': 'avg',\n",
    "                         'stl3': 'avg',\n",
    "                         'stl4': 'avg',\n",
    "                         'ssro': 'sum',\n",
    "                         'slhf': 'avg',\n",
    "                         'ssr': 'avg',\n",
    "                         'str': 'avg',\n",
    "                         'sp': 'avg',\n",
    "                         'sro': 'sum',\n",
    "                         'sshf': 'avg',\n",
    "                         'ssrd': 'avg',\n",
    "                         'strd': 'avg',\n",
    "                         'e': 'avg',\n",
    "                         'tp': 'sum',\n",
    "                         'swvl1': 'avg',\n",
    "                         'swvl2': 'avg',\n",
    "                         'swvl3': 'avg',\n",
    "                         'swvl4': 'avg'}"
   ],
   "metadata": {
    "collapsed": false,
    "pycharm": {
     "name": "#%%\n"
    }
   }
  },
  {
   "cell_type": "code",
   "execution_count": 9,
   "outputs": [],
   "source": [
    "\n",
    "\n",
    "def era5nc_hourly_to_daily(nc):\n",
    "\n",
    "    ds = xr.open_dataset(nc)\n",
    "\n",
    "    temp_merged_vars = {}\n",
    "    temp_time_var = None\n",
    "\n",
    "    for i, var in enumerate(var_process_functions):\n",
    "\n",
    "        if var_process_functions[var] == 'avg':\n",
    "            temp_merged_vars[var] = ds[var].resample(time='1D').mean()\n",
    "\n",
    "        elif var_process_functions[var] == 'sum':\n",
    "            temp_merged_vars[var] = ds[var].resample(time='1D').sum()\n",
    "\n",
    "    temp_time_var = temp_merged_vars['u10']['time']\n",
    "\n",
    "\n",
    "    output_ds = xr.Dataset(temp_merged_vars)\n",
    "    output_ds['time'] = temp_time_var\n",
    "\n",
    "    output_ds.to_netcdf(pathlib.Path(r'D:\\PROJECTS\\PRECIPITATION_CLASSIFY\\ERA5_daily').joinpath(nc.name))\n"
   ],
   "metadata": {
    "collapsed": false,
    "pycharm": {
     "name": "#%%\n"
    }
   }
  },
  {
   "cell_type": "code",
   "execution_count": 10,
   "outputs": [
    {
     "data": {
      "text/plain": "[None,\n None,\n None,\n None,\n None,\n None,\n None,\n None,\n None,\n None,\n None,\n None,\n None,\n None,\n None,\n None,\n None,\n None,\n None,\n None,\n None,\n None,\n None,\n None,\n None,\n None,\n None,\n None,\n None,\n None,\n None,\n None,\n None,\n None,\n None,\n None,\n None,\n None,\n None,\n None,\n None,\n None,\n None,\n None,\n None,\n None,\n None,\n None,\n None,\n None,\n None,\n None,\n None,\n None,\n None,\n None,\n None,\n None,\n None,\n None,\n None,\n None,\n None,\n None,\n None,\n None,\n None,\n None,\n None,\n None,\n None,\n None,\n None,\n None,\n None,\n None,\n None,\n None,\n None,\n None,\n None,\n None,\n None,\n None,\n None,\n None,\n None,\n None,\n None,\n None,\n None,\n None,\n None,\n None,\n None,\n None,\n None,\n None,\n None,\n None,\n None,\n None,\n None,\n None,\n None,\n None,\n None,\n None,\n None,\n None,\n None,\n None,\n None,\n None,\n None,\n None,\n None,\n None,\n None,\n None,\n None,\n None,\n None,\n None,\n None,\n None,\n None,\n None,\n None,\n None,\n None,\n None,\n None,\n None,\n None,\n None,\n None,\n None,\n None,\n None,\n None,\n None,\n None,\n None,\n None,\n None,\n None,\n None,\n None,\n None,\n None,\n None,\n None,\n None,\n None,\n None,\n None,\n None,\n None,\n None,\n None,\n None,\n None,\n None,\n None,\n None,\n None,\n None,\n None,\n None,\n None,\n None,\n None,\n None,\n None,\n None,\n None,\n None,\n None,\n None,\n None,\n None,\n None,\n None,\n None,\n None,\n None,\n None,\n None,\n None,\n None,\n None,\n None,\n None,\n None,\n None,\n None,\n None,\n None,\n None,\n None,\n None,\n None,\n None,\n None,\n None,\n None,\n None,\n None,\n None,\n None,\n None,\n None,\n None,\n None,\n None,\n None,\n None,\n None,\n None,\n None,\n None,\n None,\n None,\n None,\n None,\n None,\n None,\n None,\n None,\n None,\n None,\n None,\n None,\n None,\n None,\n None,\n None,\n None,\n None,\n None,\n None,\n None,\n None,\n None,\n None,\n None,\n None,\n None,\n None,\n None,\n None,\n None,\n None,\n None,\n None,\n None,\n None,\n None,\n None,\n None,\n None,\n None,\n None,\n None,\n None,\n None,\n None,\n None,\n None,\n None,\n None,\n None,\n None,\n None,\n None,\n None,\n None,\n None,\n None,\n None,\n None,\n None,\n None,\n None,\n None,\n None,\n None,\n None,\n None,\n None,\n None,\n None,\n None,\n None,\n None,\n None,\n None,\n None,\n None,\n None,\n None,\n None,\n None,\n None,\n None,\n None,\n None,\n None,\n None,\n None,\n None,\n None,\n None,\n None,\n None,\n None,\n None,\n None,\n None,\n None,\n None,\n None,\n None,\n None,\n None,\n None,\n None,\n None,\n None,\n None,\n None,\n None,\n None,\n None,\n None,\n None,\n None,\n None,\n None,\n None,\n None,\n None,\n None,\n None,\n None,\n None,\n None,\n None,\n None,\n None,\n None,\n None,\n None,\n None,\n None,\n None,\n None,\n None,\n None,\n None,\n None,\n None,\n None,\n None]"
     },
     "execution_count": 10,
     "metadata": {},
     "output_type": "execute_result"
    }
   ],
   "source": [
    "Parallel(n_jobs=12)(delayed(era5nc_hourly_to_daily)(nc) for nc in pathlib.Path(r'D:\\PROJECTS\\PRECIPITATION_CLASSIFY\\ERA5_hourly').glob('*.nc'))"
   ],
   "metadata": {
    "collapsed": false,
    "pycharm": {
     "name": "#%%\n"
    }
   }
  },
  {
   "cell_type": "code",
   "execution_count": null,
   "outputs": [],
   "source": [],
   "metadata": {
    "collapsed": false,
    "pycharm": {
     "name": "#%%\n"
    }
   }
  }
 ],
 "metadata": {
  "kernelspec": {
   "display_name": "Python 3",
   "language": "python",
   "name": "python3"
  },
  "language_info": {
   "codemirror_mode": {
    "name": "ipython",
    "version": 2
   },
   "file_extension": ".py",
   "mimetype": "text/x-python",
   "name": "python",
   "nbconvert_exporter": "python",
   "pygments_lexer": "ipython2",
   "version": "2.7.6"
  }
 },
 "nbformat": 4,
 "nbformat_minor": 0
}